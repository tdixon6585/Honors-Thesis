{
 "cells": [
  {
   "cell_type": "code",
   "execution_count": 2,
   "metadata": {},
   "outputs": [],
   "source": [
    "import numpy as np\n",
    "import matplotlib.pyplot as plt\n",
    "from tensorflow import keras\n",
    "from sklearn import preprocessing\n",
    "from sklearn.model_selection import KFold\n",
    "import NN_functions as NN_p"
   ]
  },
  {
   "cell_type": "code",
   "execution_count": 3,
   "metadata": {},
   "outputs": [],
   "source": [
    "num_data_points = 100\n",
    "Z = NN_p.create_data(num_data_points)"
   ]
  },
  {
   "cell_type": "code",
   "execution_count": 4,
   "metadata": {},
   "outputs": [
    {
     "data": {
      "image/png": "[encoded data removed]",
      "text/plain": [
       "<Figure size 432x288 with 1 Axes>"
      ]
     },
     "metadata": {
      "needs_background": "light"
     },
     "output_type": "display_data"
    }
   ],
   "source": [
    "X = Z[:,:-1]\n",
    "y = Z[:,-1]\n",
    "y = y.reshape(-1,1)\n",
    "\n",
    "c = y.T[0]\n",
    "plt.scatter(*zip(*X), c=c)\n",
    "plt.show()"
   ]
  },
  {
   "cell_type": "code",
   "execution_count": 5,
   "metadata": {},
   "outputs": [],
   "source": [
    "def KFold_iteration_Basic(Z, layers, n_splits):\n",
    "    cv = KFold(n_splits=n_splits, shuffle=False)\n",
    "\n",
    "    all_accuracies = []\n",
    "    test_accuracies = []\n",
    "    for i, (train_index, test_index) in enumerate(cv.split(Z)):\n",
    "        #print(\"Train Index: \", train_index, \"\\n\")\n",
    "        #print(\"Test Index: \", test_index)\n",
    "\n",
    "        print('Split ', i)\n",
    "        #SPLIT DATA\n",
    "        Z_train, Z_test = Z[train_index], Z[test_index]\n",
    "\n",
    "        #RUN NN\n",
    "        nn = NN_p.NN(layers, learning_rate = 0.1)\n",
    "        accuracies = nn.train(Z_train,500)\n",
    "        all_accuracies.append(accuracies)\n",
    "\n",
    "        #TEST NN\n",
    "        X_test, y_test = Z_test[:,:-1], Z_test[:,-1]\n",
    "        y_test = y_test.reshape(-1,1)\n",
    "\n",
    "        predictions = nn.predict(X_test)\n",
    "        acc = nn.evaluate(predictions,y_test)\n",
    "\n",
    "        test_accuracies.append(acc)\n",
    "    \n",
    "    return all_accuracies, test_accuracies"
   ]
  },
  {
   "cell_type": "code",
   "execution_count": 7,
   "metadata": {},
   "outputs": [
    {
     "name": "stdout",
     "output_type": "stream",
     "text": [
      "Split  0\n",
      "[0.64671563 0.51850931 0.84973948]\n",
      "Split  1\n",
      "[0.82514356 0.26605026 0.48413541]\n",
      "Split  2\n",
      "[0.83464302 0.63842642 0.67087601]\n",
      "Split  3\n",
      "[0.16562794 0.738842   0.11662629]\n",
      "Split  4\n",
      "[0.55080773 0.94421116 0.51972372]\n",
      "[2, 2, 1]\n",
      "Testing accuracies:  0.7899999999999999\n",
      "Training accuracies:  0.8074999999999999\n"
     ]
    }
   ],
   "source": [
    "all_layers = [\n",
    "    [2,2,1]#, [2,3,1], [2,4,1], [2,5,1], [2,6,1], [2,7,1], [2,8,1],\n",
    "    #[2,2,2,1], [2,2,4,1], [2,2,6,1]\n",
    "]\n",
    "\n",
    "n_splits = 10\n",
    "\n",
    "for i in range(len(all_layers)):\n",
    "    layers = all_layers[i]\n",
    "    \n",
    "    \n",
    "    all_accs, test_accs = KFold_iteration_Basic(Z, layers, n_splits)\n",
    "    print(layers)\n",
    "    print(\"Testing accuracies: \", np.array(test_accs).mean())\n",
    "    print(\"Training accuracies: \", np.array(all_accs)[:,-1].mean())"
   ]
  },
  {
   "cell_type": "code",
   "execution_count": 17,
   "metadata": {},
   "outputs": [],
   "source": [
    "def KFold_iteration_Keras(Z, layers, n_splits):\n",
    "    cv = KFold(n_splits=n_splits, shuffle=False)\n",
    "\n",
    "    all_accuracies = []\n",
    "    test_accuracies = []\n",
    "    for i, (train_index, test_index) in enumerate(cv.split(Z)):\n",
    "        #print(\"Train Index: \", train_index, \"\\n\")\n",
    "        #print(\"Test Index: \", test_index)\n",
    "\n",
    "        print('Split ', i)\n",
    "        #SPLIT DATA\n",
    "        Z_train, Z_test = Z[train_index], Z[test_index]\n",
    "\n",
    "        #Build Layers\n",
    "        for j, l in enumerate(layers):\n",
    "            if j == 0:\n",
    "                inputs = keras.Input(shape=(l))\n",
    "                x = inputs\n",
    "                continue\n",
    "            x = keras.layers.Dense(l, activation=\"sigmoid\")(x)\n",
    "        \n",
    "        outputs = x\n",
    "\n",
    "        \n",
    "        #RUN NN\n",
    "        model = keras.Model(inputs=inputs, outputs=outputs)\n",
    "        model.compile(optimizer=keras.optimizers.SGD(learning_rate=1e-4, momentum=0.0),\n",
    "                loss=keras.losses.MeanSquaredError(),\n",
    "                #metrics=[keras.metrics.Accuracy()])\n",
    "                metrics=[keras.metrics.BinaryAccuracy()])\n",
    "        \n",
    "        X_train, y_train = Z_train[:,:-1], Z_train[:,-1]\n",
    "        y_train = y_train.reshape(-1,1)\n",
    "        \n",
    "        history = model.fit(X_train, y_train, batch_size=1, epochs=500, verbose=0)\n",
    "        \n",
    "        all_accuracies.append(history)\n",
    "        \n",
    "        #TEST NN\n",
    "        X_test, y_test = Z_test[:,:-1], Z_test[:,-1]\n",
    "        y_test = y_test.reshape(-1,1)\n",
    "        \n",
    "        results = model.evaluate(X_test, y_test, batch_size=1, verbose=0)\n",
    "\n",
    "        test_accuracies.append(results)\n",
    "    \n",
    "    return all_accuracies, test_accuracies"
   ]
  },
  {
   "cell_type": "code",
   "execution_count": 18,
   "metadata": {},
   "outputs": [
    {
     "name": "stdout",
     "output_type": "stream",
     "text": [
      "Split  0\n",
      "Split  1\n",
      "[2, 2, 1]\n",
      "Testing accuracies:  0.5399999916553497\n",
      "Training accuracies:  0.49\n"
     ]
    }
   ],
   "source": [
    "all_layers = [\n",
    "    [2,2,1]#, [2,3,1], [2,4,1], [2,5,1], [2,6,1], [2,7,1], [2,8,1],\n",
    "    #[2,2,2,1], [2,2,4,1], [2,2,6,1]\n",
    "]\n",
    "\n",
    "n_splits = 2\n",
    "\n",
    "for i in range(len(all_layers)):\n",
    "    layers = all_layers[i]\n",
    "    \n",
    "    \n",
    "    all_accs, test_accs = KFold_iteration_Keras(Z, layers, n_splits)\n",
    "    print(layers)\n",
    "    print(\"Testing accuracies: \", np.array(test_accs)[:,1].mean())\n",
    "    print(\"Training accuracies: \", np.mean([i.history['binary_accuracy'][-1] for i in all_accs]))"
   ]
  },
  {
   "cell_type": "code",
   "execution_count": null,
   "metadata": {},
   "outputs": [],
   "source": []
  }
 ],
 "metadata": {
  "kernelspec": {
   "display_name": "Python 3",
   "language": "python",
   "name": "python3"
  },
  "language_info": {
   "codemirror_mode": {
    "name": "ipython",
    "version": 3
   },
   "file_extension": ".py",
   "mimetype": "text/x-python",
   "name": "python",
   "nbconvert_exporter": "python",
   "pygments_lexer": "ipython3",
   "version": "3.7.7"
  }
 },
 "nbformat": 4,
 "nbformat_minor": 4
}
