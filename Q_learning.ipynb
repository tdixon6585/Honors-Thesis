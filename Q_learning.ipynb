{
 "cells": [
  {
   "cell_type": "code",
   "execution_count": 1,
   "metadata": {},
   "outputs": [
    {
     "name": "stderr",
     "output_type": "stream",
     "text": [
      "/Users/thomasdixon/anaconda3/lib/python3.7/site-packages/tensorflow/python/framework/dtypes.py:516: FutureWarning: Passing (type, 1) or '1type' as a synonym of type is deprecated; in a future version of numpy, it will be understood as (type, (1,)) / '(1,)type'.\n",
      "  _np_qint8 = np.dtype([(\"qint8\", np.int8, 1)])\n",
      "/Users/thomasdixon/anaconda3/lib/python3.7/site-packages/tensorflow/python/framework/dtypes.py:517: FutureWarning: Passing (type, 1) or '1type' as a synonym of type is deprecated; in a future version of numpy, it will be understood as (type, (1,)) / '(1,)type'.\n",
      "  _np_quint8 = np.dtype([(\"quint8\", np.uint8, 1)])\n",
      "/Users/thomasdixon/anaconda3/lib/python3.7/site-packages/tensorflow/python/framework/dtypes.py:518: FutureWarning: Passing (type, 1) or '1type' as a synonym of type is deprecated; in a future version of numpy, it will be understood as (type, (1,)) / '(1,)type'.\n",
      "  _np_qint16 = np.dtype([(\"qint16\", np.int16, 1)])\n",
      "/Users/thomasdixon/anaconda3/lib/python3.7/site-packages/tensorflow/python/framework/dtypes.py:519: FutureWarning: Passing (type, 1) or '1type' as a synonym of type is deprecated; in a future version of numpy, it will be understood as (type, (1,)) / '(1,)type'.\n",
      "  _np_quint16 = np.dtype([(\"quint16\", np.uint16, 1)])\n",
      "/Users/thomasdixon/anaconda3/lib/python3.7/site-packages/tensorflow/python/framework/dtypes.py:520: FutureWarning: Passing (type, 1) or '1type' as a synonym of type is deprecated; in a future version of numpy, it will be understood as (type, (1,)) / '(1,)type'.\n",
      "  _np_qint32 = np.dtype([(\"qint32\", np.int32, 1)])\n",
      "/Users/thomasdixon/anaconda3/lib/python3.7/site-packages/tensorflow/python/framework/dtypes.py:525: FutureWarning: Passing (type, 1) or '1type' as a synonym of type is deprecated; in a future version of numpy, it will be understood as (type, (1,)) / '(1,)type'.\n",
      "  np_resource = np.dtype([(\"resource\", np.ubyte, 1)])\n",
      "/Users/thomasdixon/anaconda3/lib/python3.7/site-packages/tensorboard/compat/tensorflow_stub/dtypes.py:541: FutureWarning: Passing (type, 1) or '1type' as a synonym of type is deprecated; in a future version of numpy, it will be understood as (type, (1,)) / '(1,)type'.\n",
      "  _np_qint8 = np.dtype([(\"qint8\", np.int8, 1)])\n",
      "/Users/thomasdixon/anaconda3/lib/python3.7/site-packages/tensorboard/compat/tensorflow_stub/dtypes.py:542: FutureWarning: Passing (type, 1) or '1type' as a synonym of type is deprecated; in a future version of numpy, it will be understood as (type, (1,)) / '(1,)type'.\n",
      "  _np_quint8 = np.dtype([(\"quint8\", np.uint8, 1)])\n",
      "/Users/thomasdixon/anaconda3/lib/python3.7/site-packages/tensorboard/compat/tensorflow_stub/dtypes.py:543: FutureWarning: Passing (type, 1) or '1type' as a synonym of type is deprecated; in a future version of numpy, it will be understood as (type, (1,)) / '(1,)type'.\n",
      "  _np_qint16 = np.dtype([(\"qint16\", np.int16, 1)])\n",
      "/Users/thomasdixon/anaconda3/lib/python3.7/site-packages/tensorboard/compat/tensorflow_stub/dtypes.py:544: FutureWarning: Passing (type, 1) or '1type' as a synonym of type is deprecated; in a future version of numpy, it will be understood as (type, (1,)) / '(1,)type'.\n",
      "  _np_quint16 = np.dtype([(\"quint16\", np.uint16, 1)])\n",
      "/Users/thomasdixon/anaconda3/lib/python3.7/site-packages/tensorboard/compat/tensorflow_stub/dtypes.py:545: FutureWarning: Passing (type, 1) or '1type' as a synonym of type is deprecated; in a future version of numpy, it will be understood as (type, (1,)) / '(1,)type'.\n",
      "  _np_qint32 = np.dtype([(\"qint32\", np.int32, 1)])\n",
      "/Users/thomasdixon/anaconda3/lib/python3.7/site-packages/tensorboard/compat/tensorflow_stub/dtypes.py:550: FutureWarning: Passing (type, 1) or '1type' as a synonym of type is deprecated; in a future version of numpy, it will be understood as (type, (1,)) / '(1,)type'.\n",
      "  np_resource = np.dtype([(\"resource\", np.ubyte, 1)])\n"
     ]
    }
   ],
   "source": [
    "import numpy as np\n",
    "import matplotlib.pyplot as plt\n",
    "import tensorflow as tf\n",
    "from tensorflow import keras\n",
    "from sklearn import preprocessing\n",
    "import RK4_numba as RK4"
   ]
  },
  {
   "cell_type": "code",
   "execution_count": 2,
   "metadata": {},
   "outputs": [],
   "source": [
    "r = RK4.Rocket()\n",
    "\n",
    "dAngle = 0.01*np.pi\n",
    "dThrottle = 0.05\n",
    "dt = 0.1\n",
    "\n",
    "#R = []\n",
    "#RX = []\n",
    "#RY = []\n",
    "#V = []\n",
    "#Fuel = []\n",
    "\n",
    "def step(r, action):\n",
    "    pt_vars = np.array([r.rx, r.ry, r.vx, r.vy, r.fuelm], dtype=np.float32)\n",
    "    \n",
    "    angle, throttle, staged = r.input_vars\n",
    "    \n",
    "    if action == 0:\n",
    "        angle += dAngle\n",
    "        throttle += dThrottle\n",
    "    elif action == 1:\n",
    "        angle -= dAngle\n",
    "        throttle += dThrottle\n",
    "    elif action == 2:\n",
    "        angle += dAngle\n",
    "        throttle -= dThrottle\n",
    "    elif action == 3:\n",
    "        angle -= dAngle\n",
    "        throttle -= dThrottle\n",
    "    elif action == 4:\n",
    "        angle = angle\n",
    "        throttle = throttle\n",
    "    else:\n",
    "        print(\"NO ACTION SELECTED\")\n",
    "        \n",
    "    if throttle > 1:\n",
    "        throttle = 1\n",
    "    elif throttle < 0:\n",
    "        throttle = 0\n",
    "\n",
    "    \n",
    "    #OUT OF FUEL\n",
    "    if r.fuelm <= 0:\n",
    "        print(\"Out Of Fuel\")\n",
    "        done = True\n",
    "    #CRASHES\n",
    "    elif np.sqrt(r.rx**2+r.ry**2) < r.sea:\n",
    "        print(\"Crashed\")\n",
    "        done = True\n",
    "    #TIME CUTOFF\n",
    "    elif r.t > 100000:\n",
    "        print(\"Time Limit\")\n",
    "        done = True\n",
    "    #ACHIEVE ORBIT HERE DON\"T FORGET TO INCLUDE THIS HERE \n",
    "    else:\n",
    "        done = False\n",
    "        \n",
    "    r.input_vars = np.array([angle, throttle, staged], dtype=np.float32)\n",
    "    r.RK4_step(pt_vars, dt, r.input_vars)\n",
    "    \n",
    "    return r, done\n",
    "\n",
    "'''\n",
    "actions = {\n",
    "(+throttle, +angle),\n",
    "(+throttle, -angle),\n",
    "(-throttle, +angle),\n",
    "(-throttle, -angle),\n",
    "(do nothing)\n",
    "}\n",
    "'''\n",
    "\n",
    "def reward_1(state):\n",
    "    rx, ry, vx, vy, m, has_staged = state[0]\n",
    "    \n",
    "    x = np.sqrt(rx**2+ry**2)\n",
    "    v = np.sqrt(vx**2+vy**2)\n",
    "    \n",
    "    rw_x = 1/(1+np.exp(-0.00004*(x-r.karman)))\n",
    "    rw_v = 1/(1+np.exp(-0.001*(v-7790/2)))\n",
    "    rw_m = 0  #0.1*m/r.mi\n",
    "    \n",
    "    punish = 0\n",
    "    if np.sqrt(r.rx**2+r.ry**2) < r.sea:\n",
    "        punish = -2\n",
    "    \n",
    "    return rw_x + rw_v + rw_m + punish\n",
    "\n",
    "def reward_2(state):\n",
    "    rx, ry, vx, vy, m, has_staged = state[0]\n",
    "    \n",
    "    x = np.sqrt(rx**2+ry**2)\n",
    "    \n",
    "    rw_x = np.exp(-1*(x-r.sea-200000)**2/(2*40000**2))\n",
    "    punish = -np.exp(-1*(x-r.sea)**2/(2*4000**2))\n",
    "    \n",
    "    return rw_x + punish\n",
    "\n",
    "def reward_3(state):\n",
    "    rx, ry, vx, vy, m, has_staged = state[0]\n",
    "    \n",
    "    x = np.sqrt(rx**2+ry**2)\n",
    "    \n",
    "    rw_x = np.exp(-1*(x-r.sea-200000)**2/(5*40000**2))\n",
    "    \n",
    "    return rw_x"
   ]
  },
  {
   "cell_type": "code",
   "execution_count": 3,
   "metadata": {},
   "outputs": [
    {
     "name": "stdout",
     "output_type": "stream",
     "text": [
      "WARNING:tensorflow:From /Users/thomasdixon/anaconda3/lib/python3.7/site-packages/tensorflow/python/ops/init_ops.py:1251: calling VarianceScaling.__init__ (from tensorflow.python.ops.init_ops) with dtype is deprecated and will be removed in a future version.\n",
      "Instructions for updating:\n",
      "Call initializer instance with the dtype argument instead of passing it to the constructor\n"
     ]
    }
   ],
   "source": [
    "inputs = keras.Input(shape=(6))\n",
    "x = keras.layers.Dense(16, activation=\"relu\")(inputs)\n",
    "x = keras.layers.Dense(32, activation=\"relu\")(x)\n",
    "outputs = keras.layers.Dense(5, activation=None)(x)\n",
    "\n",
    "model = keras.Model(inputs=inputs, outputs=outputs)\n",
    "\n",
    "model.compile(optimizer=tf.keras.optimizers.Adam(learning_rate=1e-3),\n",
    "              loss=tf.keras.losses.MeanSquaredError())"
   ]
  },
  {
   "cell_type": "code",
   "execution_count": 4,
   "metadata": {},
   "outputs": [],
   "source": [
    "def train(replay_memory):\n",
    "    batch = np.random.choice(replay_memory, 32, replace=True)\n",
    "    \n",
    "    s_p = np.array(list(map(lambda x: x['s_p'], batch)))\n",
    "    s = np.array(list(map(lambda x: x['s'], batch)))\n",
    "    \n",
    "    q_s_p = model.predict(s_p)\n",
    "    targets = model.predict(s)\n",
    "    \n",
    "    for i,m in enumerate(batch): \n",
    "        a = m['a']\n",
    "        r = m['r']\n",
    "        done = m['done']\n",
    "        if not done:  target = r + discount_factor * np.max(q_s_p)\n",
    "        else:         target = r\n",
    "        targets[i][a] = target\n",
    "\n",
    "    h = model.fit(s, targets, epochs=1, verbose=0)\n",
    "    return model"
   ]
  },
  {
   "cell_type": "code",
   "execution_count": 11,
   "metadata": {},
   "outputs": [
    {
     "name": "stdout",
     "output_type": "stream",
     "text": [
      "EPOCH:  0\n",
      "Crashed\n",
      "Reward:  200.20757624744388\n",
      "EPOCH:  1\n",
      "Out Of Fuel\n",
      "Reward:  726.7533086021406\n",
      "EPOCH:  2\n",
      "Crashed\n",
      "Reward:  85.76774852884628\n",
      "EPOCH:  3\n",
      "Out Of Fuel\n",
      "Reward:  706.1730910668509\n",
      "EPOCH:  4\n",
      "Crashed\n",
      "Reward:  176.97547102971254\n",
      "EPOCH:  5\n",
      "Crashed\n",
      "Reward:  8.620332411138362\n",
      "EPOCH:  6\n",
      "Crashed\n",
      "Reward:  19.014574279804904\n",
      "EPOCH:  7\n",
      "Crashed\n",
      "Reward:  107.86816573696898\n",
      "EPOCH:  8\n",
      "Out Of Fuel\n",
      "Reward:  238.70769473454115\n",
      "EPOCH:  9\n",
      "Out Of Fuel\n",
      "Reward:  509.6004864327493\n",
      "EPOCH:  10\n",
      "Out Of Fuel\n",
      "Reward:  317.3855346048742\n",
      "EPOCH:  11\n",
      "Crashed\n",
      "Reward:  17.939185125361313\n",
      "EPOCH:  12\n",
      "Crashed\n",
      "Reward:  17.304197838389054\n",
      "EPOCH:  13\n",
      "Out Of Fuel\n",
      "Reward:  451.1338484777875\n",
      "EPOCH:  14\n",
      "Out Of Fuel\n",
      "Reward:  196.59125242026795\n",
      "EPOCH:  15\n",
      "Crashed\n",
      "Reward:  47.49174413083803\n",
      "EPOCH:  16\n",
      "Crashed\n",
      "Reward:  5.949820668237961\n",
      "EPOCH:  17\n",
      "Crashed\n",
      "Reward:  2.550743643186857\n",
      "EPOCH:  18\n",
      "Crashed\n",
      "Reward:  2.5322177599764992\n",
      "EPOCH:  19\n",
      "Crashed\n",
      "Reward:  3.7570291411941734\n"
     ]
    }
   ],
   "source": [
    "epochs = 20\n",
    "greed = 1\n",
    "greed_decay = 0.99\n",
    "discount_factor = 0.8\n",
    "\n",
    "replay_memory = []\n",
    "max_mem_size = 8000\n",
    "\n",
    "all_RX = []\n",
    "all_RY = []\n",
    "all_rewards =[]\n",
    "\n",
    "for i in range(epochs):\n",
    "    print(\"EPOCH: \", i)\n",
    "    r = RK4.Rocket()\n",
    "    state = np.array([[r.rx, r.ry, r.vx, r.vy, r.m, int(r.has_staged)]])\n",
    "    greed *= greed_decay\n",
    "    \n",
    "    RX = []\n",
    "    RY = []\n",
    "    rewards = []\n",
    "\n",
    "    done = False\n",
    "    while not done:\n",
    "        if np.random.random() < greed:\n",
    "            action = np.random.randint(0, 5)\n",
    "        else:\n",
    "            action = np.argmax(model.predict(state))\n",
    "            \n",
    "        RX.append(r.rx)\n",
    "        RY.append(r.ry)\n",
    "            \n",
    "        r, done = step(r, action)\n",
    "        new_state = np.array([[r.rx, r.ry, r.vx, r.vy, r.m, int(r.has_staged)]])\n",
    "        reward = reward_3(state)\n",
    "        rewards.append(reward)\n",
    "        \n",
    "        replay_memory.append({'s': state[0], 'a': action, 'r': reward, \"s_p\": new_state[0], 'done': done})\n",
    "        \n",
    "        model = train(replay_memory)\n",
    "        state = new_state\n",
    "            \n",
    "        \n",
    "    all_rewards.append(sum(rewards))\n",
    "    print('Reward: ', sum(rewards))\n",
    "    if i % 1 == 0:\n",
    "        all_RX.append(RX)\n",
    "        all_RY.append(RY)\n",
    "        "
   ]
  },
  {
   "cell_type": "code",
   "execution_count": 12,
   "metadata": {},
   "outputs": [
    {
     "name": "stderr",
     "output_type": "stream",
     "text": [
      "/Users/thomasdixon/anaconda3/lib/python3.7/site-packages/ipykernel_launcher.py:20: MatplotlibDeprecationWarning: Adding an axes using the same arguments as a previous axes currently reuses the earlier instance.  In a future version, a new instance will always be created and returned.  Meanwhile, this warning can be suppressed, and the future behavior ensured, by passing a unique label to each axes instance.\n"
     ]
    },
    {
     "data": {
      "image/png": "[encoded data removed]",
      "text/plain": [
       "<Figure size 432x288 with 1 Axes>"
      ]
     },
     "metadata": {
      "needs_background": "light"
     },
     "output_type": "display_data"
    }
   ],
   "source": [
    "#NEED TO PLOT SOMETHING TO SHOW PROGRESS\n",
    "all_RX = np.array(all_RX)\n",
    "all_RY = np.array(all_RY)\n",
    "\n",
    "\n",
    "rad = 6378000\n",
    "surface = plt.Circle((0, 0), rad, color='b', fill=False)\n",
    "karman_line = plt.Circle((0, 0), rad+100000, color='b', fill=False)\n",
    "#karman = rad + 100000\n",
    "\n",
    "ax = plt.gca()\n",
    "for i in range(len(all_RX)):\n",
    "    plt.plot(all_RX[i], all_RY[i], label=f\"{i}\")\n",
    "    \n",
    "ax.add_patch(surface)\n",
    "ax.add_patch(karman_line)\n",
    "plt.xlim(min([min(i) for i in all_RX]), max([max(i) for i in all_RX]))\n",
    "plt.ylim(min([min(i) for i in all_RY]), max([max(i) for i in all_RY]))\n",
    "plt.title(\"X vs. Y Position\")\n",
    "plt.axes().set_aspect('equal','datalim')\n",
    "plt.legend()\n",
    "plt.show()"
   ]
  },
  {
   "cell_type": "code",
   "execution_count": 13,
   "metadata": {},
   "outputs": [
    {
     "data": {
      "text/plain": [
       "[<matplotlib.lines.Line2D at 0x7ffbede35250>]"
      ]
     },
     "execution_count": 13,
     "metadata": {},
     "output_type": "execute_result"
    },
    {
     "data": {
      "image/png": "[encoded data removed]",
      "text/plain": [
       "<Figure size 432x288 with 1 Axes>"
      ]
     },
     "metadata": {
      "needs_background": "light"
     },
     "output_type": "display_data"
    }
   ],
   "source": [
    "plt.plot(all_rewards)"
   ]
  },
  {
   "cell_type": "code",
   "execution_count": 14,
   "metadata": {},
   "outputs": [
    {
     "data": {
      "text/plain": [
       "36699"
      ]
     },
     "execution_count": 14,
     "metadata": {},
     "output_type": "execute_result"
    }
   ],
   "source": [
    "len(replay_memory)"
   ]
  },
  {
   "cell_type": "code",
   "execution_count": null,
   "metadata": {},
   "outputs": [],
   "source": []
  }
 ],
 "metadata": {
  "kernelspec": {
   "display_name": "Python 3",
   "language": "python",
   "name": "python3"
  },
  "language_info": {
   "codemirror_mode": {
    "name": "ipython",
    "version": 3
   },
   "file_extension": ".py",
   "mimetype": "text/x-python",
   "name": "python",
   "nbconvert_exporter": "python",
   "pygments_lexer": "ipython3",
   "version": "3.7.7"
  }
 },
 "nbformat": 4,
 "nbformat_minor": 4
}
